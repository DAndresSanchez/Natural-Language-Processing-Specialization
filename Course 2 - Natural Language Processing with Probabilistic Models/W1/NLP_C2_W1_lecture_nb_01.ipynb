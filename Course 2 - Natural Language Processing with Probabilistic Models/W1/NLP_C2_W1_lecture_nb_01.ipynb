{
  "cells": [
    {
      "cell_type": "markdown",
      "metadata": {
        "id": "JYKrB7ZKHEw8"
      },
      "source": [
        "# NLP Course 2 Week 1 Lesson : Building The Model - Lecture Exercise 01\n",
        "Estimated Time: 10 minutes\n",
        "<br>\n",
        "# Vocabulary Creation \n",
        "Create a tiny vocabulary from a tiny corpus\n",
        "<br>\n",
        "It's time to start small !\n",
        "<br>\n",
        "### Imports and Data"
      ]
    },
    {
      "cell_type": "code",
      "execution_count": 1,
      "metadata": {
        "id": "XVo8FeaGHExA"
      },
      "outputs": [],
      "source": [
        "# imports\n",
        "import re # regular expression library; for tokenization of words\n",
        "from collections import Counter # collections library; counter: dict subclass for counting hashable objects\n",
        "import matplotlib.pyplot as plt # for data visualization"
      ]
    },
    {
      "cell_type": "code",
      "execution_count": 2,
      "metadata": {
        "id": "NHlW1Hi9HExB",
        "outputId": "33e60dd2-73a1-4a69-f205-8a2a0f698902",
        "colab": {
          "base_uri": "https://localhost:8080/"
        }
      },
      "outputs": [
        {
          "output_type": "stream",
          "name": "stdout",
          "text": [
            "red pink pink blue blue yellow ORANGE BLUE BLUE PINK\n",
            "string length :  52\n"
          ]
        }
      ],
      "source": [
        "# the tiny corpus of text ! \n",
        "text = 'red pink pink blue blue yellow ORANGE BLUE BLUE PINK' # 🌈\n",
        "print(text)\n",
        "print('string length : ',len(text))"
      ]
    },
    {
      "cell_type": "markdown",
      "metadata": {
        "id": "E2BqcJzfHExB"
      },
      "source": [
        "### Preprocessing"
      ]
    },
    {
      "cell_type": "code",
      "execution_count": 3,
      "metadata": {
        "id": "nM5j7y1eHExC",
        "outputId": "aaece15b-dc81-4d6e-e2ba-607e6573a16d",
        "colab": {
          "base_uri": "https://localhost:8080/"
        }
      },
      "outputs": [
        {
          "output_type": "stream",
          "name": "stdout",
          "text": [
            "red pink pink blue blue yellow orange blue blue pink\n",
            "string length :  52\n"
          ]
        }
      ],
      "source": [
        "# convert all letters to lower case\n",
        "text_lowercase = text.lower()\n",
        "print(text_lowercase)\n",
        "print('string length : ',len(text_lowercase))"
      ]
    },
    {
      "cell_type": "code",
      "execution_count": 4,
      "metadata": {
        "id": "5GBpwGcBHExD",
        "outputId": "baf81950-b133-4055-82ab-9d008e5a711f",
        "colab": {
          "base_uri": "https://localhost:8080/"
        }
      },
      "outputs": [
        {
          "output_type": "stream",
          "name": "stdout",
          "text": [
            "['red', 'pink', 'pink', 'blue', 'blue', 'yellow', 'orange', 'blue', 'blue', 'pink']\n",
            "count :  10\n"
          ]
        }
      ],
      "source": [
        "# some regex to tokenize the string to words and return them in a list\n",
        "words = re.findall(r'\\w+', text_lowercase)\n",
        "print(words)\n",
        "print('count : ',len(words))"
      ]
    },
    {
      "cell_type": "markdown",
      "metadata": {
        "id": "Zy0CNYDcHExD"
      },
      "source": [
        "### Create Vocabulary\n",
        "Option 1 : A set of distinct words from the text"
      ]
    },
    {
      "cell_type": "code",
      "execution_count": 5,
      "metadata": {
        "id": "V9ldPonoHExE",
        "outputId": "2e095142-8454-449b-dd5f-9a95a2b6a88f",
        "colab": {
          "base_uri": "https://localhost:8080/"
        }
      },
      "outputs": [
        {
          "output_type": "stream",
          "name": "stdout",
          "text": [
            "{'yellow', 'pink', 'red', 'orange', 'blue'}\n",
            "count :  5\n"
          ]
        }
      ],
      "source": [
        "# create vocab\n",
        "vocab = set(words)\n",
        "print(vocab)\n",
        "print('count : ',len(vocab))"
      ]
    },
    {
      "cell_type": "markdown",
      "metadata": {
        "id": "W6-Z9yobHExE"
      },
      "source": [
        "### Add Information with Word Counts\n",
        "Option 2 : Two alternatives for including the word count as well"
      ]
    },
    {
      "cell_type": "code",
      "execution_count": 6,
      "metadata": {
        "id": "3oMcSi7lHExF",
        "outputId": "0b58b1ec-fd7b-4dce-90ef-7d58139508ac",
        "colab": {
          "base_uri": "https://localhost:8080/"
        }
      },
      "outputs": [
        {
          "output_type": "stream",
          "name": "stdout",
          "text": [
            "{'red': 1, 'pink': 3, 'blue': 4, 'yellow': 1, 'orange': 1}\n",
            "count :  5\n"
          ]
        }
      ],
      "source": [
        "# create vocab including word count\n",
        "counts_a = dict()\n",
        "for w in words:\n",
        "    counts_a[w] = counts_a.get(w,0)+1\n",
        "print(counts_a)\n",
        "print('count : ',len(counts_a))"
      ]
    },
    {
      "cell_type": "code",
      "execution_count": 7,
      "metadata": {
        "id": "NK7cN3jpHExG",
        "outputId": "c022d23e-dce7-4338-ff28-eee86fb9ebc1",
        "colab": {
          "base_uri": "https://localhost:8080/"
        }
      },
      "outputs": [
        {
          "output_type": "stream",
          "name": "stdout",
          "text": [
            "Counter({'blue': 4, 'pink': 3, 'red': 1, 'yellow': 1, 'orange': 1})\n",
            "count :  5\n"
          ]
        }
      ],
      "source": [
        "# create vocab inlcuding word count using collections.Counter\n",
        "counts_b = Counter(words)\n",
        "print(counts_b)\n",
        "print('count : ',len(counts_b))"
      ]
    },
    {
      "cell_type": "code",
      "source": [
        "counts_b.keys()"
      ],
      "metadata": {
        "id": "7Be4Z-HlH7p7",
        "outputId": "5f4ee24c-c843-451e-a114-cae2209301b6",
        "colab": {
          "base_uri": "https://localhost:8080/"
        }
      },
      "execution_count": 9,
      "outputs": [
        {
          "output_type": "execute_result",
          "data": {
            "text/plain": [
              "dict_keys(['red', 'pink', 'blue', 'yellow', 'orange'])"
            ]
          },
          "metadata": {},
          "execution_count": 9
        }
      ]
    },
    {
      "cell_type": "code",
      "execution_count": 13,
      "metadata": {
        "id": "1qHBxuJFHExG",
        "outputId": "ff66e352-45bd-4954-d0d1-8b88d00f6f78",
        "colab": {
          "base_uri": "https://localhost:8080/",
          "height": 265
        }
      },
      "outputs": [
        {
          "output_type": "display_data",
          "data": {
            "text/plain": [
              "<Figure size 432x288 with 1 Axes>"
            ],
            "image/png": "[encoded data removed]"
          },
          "metadata": {
            "needs_background": "light"
          }
        }
      ],
      "source": [
        "# barchart of sorted word counts\n",
        "d = {'blue': counts_b['blue'], 'pink': counts_b['pink'], 'red': counts_b['red'], 'yellow': counts_b['yellow'], 'orange': counts_b['orange']}\n",
        "plt.bar(range(len(d)), list(d.values()), align='center', color=d.keys())\n",
        "_ = plt.xticks(range(len(d)), list(d.keys()))"
      ]
    },
    {
      "cell_type": "markdown",
      "metadata": {
        "id": "qDOsEJolHExG"
      },
      "source": [
        "### Ungraded Exercise\n",
        "Note that `counts_b`, above, returned by `collections.Counter` is sorted by word count\n",
        "\n",
        "Can you modify the tiny corpus of ***text*** so that a new color appears \n",
        "between ***pink*** and ***red*** in `counts_b` ?\n",
        "\n",
        "Do you need to run all the cells again, or just specific ones ? "
      ]
    },
    {
      "cell_type": "code",
      "source": [
        "counts_b = Counter(words+['green']*2)"
      ],
      "metadata": {
        "id": "dOp0_FlTIe_3"
      },
      "execution_count": 18,
      "outputs": []
    },
    {
      "cell_type": "code",
      "execution_count": 19,
      "metadata": {
        "id": "FWbKqpE9HExH",
        "outputId": "89916771-b3a5-4a1e-f389-e2e41a025144",
        "colab": {
          "base_uri": "https://localhost:8080/"
        }
      },
      "outputs": [
        {
          "output_type": "stream",
          "name": "stdout",
          "text": [
            "counts_b :  Counter({'blue': 4, 'pink': 3, 'green': 2, 'red': 1, 'yellow': 1, 'orange': 1})\n",
            "count :  6\n"
          ]
        }
      ],
      "source": [
        "print('counts_b : ', counts_b)\n",
        "print('count : ', len(counts_b))"
      ]
    },
    {
      "cell_type": "markdown",
      "metadata": {
        "id": "jIu_veAuHExH"
      },
      "source": [
        "Expected Outcome:\n",
        "\n",
        "counts_b : Counter({'blue': 4, 'pink': 3, **'your_new_color_here': 2**, red': 1, 'yellow': 1, 'orange': 1})\n",
        "<br>\n",
        "count :  6"
      ]
    },
    {
      "cell_type": "markdown",
      "metadata": {
        "id": "X2SAHlpmHExH"
      },
      "source": [
        "### Summary\n",
        "\n",
        "This is a tiny example but the methodology scales very well.\n",
        "<br>\n",
        "In the assignment you will create a large vocabulary of thousands of words, from a corpus\n",
        "<br>\n",
        "of tens of thousands or words! But the mechanics are exactly the same. \n",
        "<br> \n",
        "The only extra things to pay attention to will be; run time, memory management and the vocab data structure.\n",
        "<br> \n",
        "So the choice of approach used in code blocks `counts_a` vs `counts_b`, above, will be important."
      ]
    }
  ],
  "metadata": {
    "kernelspec": {
      "display_name": "Python 3",
      "language": "python",
      "name": "python3"
    },
    "language_info": {
      "codemirror_mode": {
        "name": "ipython",
        "version": 3
      },
      "file_extension": ".py",
      "mimetype": "text/x-python",
      "name": "python",
      "nbconvert_exporter": "python",
      "pygments_lexer": "ipython3",
      "version": "3.7.1"
    },
    "colab": {
      "name": "NLP_C2_W1_lecture_nb_01.ipynb",
      "provenance": [],
      "toc_visible": true
    }
  },
  "nbformat": 4,
  "nbformat_minor": 0
}