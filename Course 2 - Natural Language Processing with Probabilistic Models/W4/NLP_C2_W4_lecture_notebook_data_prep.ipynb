{
  "cells": [
    {
      "cell_type": "markdown",
      "metadata": {
        "id": "D2zocjbJZfwM"
      },
      "source": [
        "# Word Embeddings First Steps: Data Preparation\n",
        "\n",
        "In this series of ungraded notebooks, you'll try out all the individual techniques that you learned about in the lectures. Practicing on small examples will prepare you for the graded assignment, where you will combine the techniques in more advanced ways to create word embeddings from a real-life corpus. \n",
        "\n",
        "This notebook focuses on data preparation, which is the first step of any machine learning algorithm. It is a very important step because models are only as good as the data they are trained on and the models used require the data to have a particular structure to process it properly.\n",
        "\n",
        "To get started, import and initialize all the libraries you will need."
      ]
    },
    {
      "cell_type": "code",
      "source": [
        "pip install emoji"
      ],
      "metadata": {
        "id": "ht4sgwbVZkBB",
        "outputId": "ae5a4f19-9ffe-426d-d043-744b23fcccf2",
        "colab": {
          "base_uri": "https://localhost:8080/"
        }
      },
      "execution_count": 2,
      "outputs": [
        {
          "output_type": "stream",
          "name": "stdout",
          "text": [
            "Looking in indexes: https://pypi.org/simple, https://us-python.pkg.dev/colab-wheels/public/simple/\n",
            "Collecting emoji\n",
            "  Downloading emoji-1.7.0.tar.gz (175 kB)\n",
            "\u001b[K     |████████████████████████████████| 175 kB 5.0 MB/s \n",
            "\u001b[?25hBuilding wheels for collected packages: emoji\n",
            "  Building wheel for emoji (setup.py) ... \u001b[?25l\u001b[?25hdone\n",
            "  Created wheel for emoji: filename=emoji-1.7.0-py3-none-any.whl size=171046 sha256=515315c370a5b972993af0c14d46a8c698f7f90005cac2aaca44965b6bf10f80\n",
            "  Stored in directory: /root/.cache/pip/wheels/8a/4e/b6/57b01db010d17ef6ea9b40300af725ef3e210cb1acfb7ac8b6\n",
            "Successfully built emoji\n",
            "Installing collected packages: emoji\n",
            "Successfully installed emoji-1.7.0\n"
          ]
        }
      ]
    },
    {
      "cell_type": "code",
      "execution_count": 3,
      "metadata": {
        "id": "REHRkRGVZfwR"
      },
      "outputs": [],
      "source": [
        "import re\n",
        "import nltk\n",
        "import emoji\n",
        "import numpy as np\n",
        "from nltk.tokenize import word_tokenize\n",
        "from utils2 import get_dict"
      ]
    },
    {
      "cell_type": "code",
      "source": [
        "nltk.download('punkt')"
      ],
      "metadata": {
        "id": "fzdGwRODZy-I",
        "outputId": "95dfc425-5b9b-48c3-c76a-a9ce78d578eb",
        "colab": {
          "base_uri": "https://localhost:8080/"
        }
      },
      "execution_count": 4,
      "outputs": [
        {
          "output_type": "stream",
          "name": "stdout",
          "text": [
            "[nltk_data] Downloading package punkt to /root/nltk_data...\n",
            "[nltk_data]   Unzipping tokenizers/punkt.zip.\n"
          ]
        },
        {
          "output_type": "execute_result",
          "data": {
            "text/plain": [
              "True"
            ]
          },
          "metadata": {},
          "execution_count": 4
        }
      ]
    },
    {
      "cell_type": "markdown",
      "metadata": {
        "id": "lmgEsQqmZfwT"
      },
      "source": [
        "# Data preparation"
      ]
    },
    {
      "cell_type": "markdown",
      "metadata": {
        "id": "QAwTyIYpZfwU"
      },
      "source": [
        "In the data preparation phase, starting with a corpus of text, you will:\n",
        "\n",
        "- Clean and tokenize the corpus.\n",
        "\n",
        "- Extract the pairs of context words and center word that will make up the training data set for the CBOW model. The context words are the features that will be fed into the model, and the center words are the target values that the model will learn to predict.\n",
        "\n",
        "- Create simple vector representations of the context words (features) and center words (targets) that can be used by the neural network of the CBOW model."
      ]
    },
    {
      "cell_type": "markdown",
      "metadata": {
        "id": "mxZi12PYZfwU"
      },
      "source": [
        "## Cleaning and tokenization\n",
        "\n",
        "To demonstrate the cleaning and tokenization process, consider a corpus that contains emojis and various punctuation signs."
      ]
    },
    {
      "cell_type": "code",
      "execution_count": 5,
      "metadata": {
        "id": "XRb5KxSIZfwU"
      },
      "outputs": [],
      "source": [
        "# Define a corpus\n",
        "corpus = 'Who ❤️ \"word embeddings\" in 2020? I do!!!'"
      ]
    },
    {
      "cell_type": "markdown",
      "metadata": {
        "id": "nXgspO5oZfwV"
      },
      "source": [
        "First, replace all interrupting punctuation signs — such as commas and exclamation marks — with periods."
      ]
    },
    {
      "cell_type": "code",
      "execution_count": 6,
      "metadata": {
        "id": "u02OkqgZZfwV",
        "outputId": "1f3e5229-367f-4795-e504-9b334a27c036",
        "colab": {
          "base_uri": "https://localhost:8080/"
        }
      },
      "outputs": [
        {
          "output_type": "stream",
          "name": "stdout",
          "text": [
            "Corpus:  Who ❤️ \"word embeddings\" in 2020? I do!!!\n",
            "After cleaning punctuation:  Who ❤️ \"word embeddings\" in 2020. I do.\n"
          ]
        }
      ],
      "source": [
        "# Print original corpus\n",
        "print(f'Corpus:  {corpus}')\n",
        "\n",
        "# Do the substitution\n",
        "data = re.sub(r'[,!?;-]+', '.', corpus)\n",
        "\n",
        "# Print cleaned corpus\n",
        "print(f'After cleaning punctuation:  {data}')"
      ]
    },
    {
      "cell_type": "markdown",
      "metadata": {
        "id": "fRPkrX30ZfwW"
      },
      "source": [
        "Next, use NLTK's tokenization engine to split the corpus into individual tokens."
      ]
    },
    {
      "cell_type": "code",
      "execution_count": 7,
      "metadata": {
        "id": "OjnC9uT3ZfwX",
        "outputId": "4a4f4bf8-b747-4165-a086-18e263d62226",
        "colab": {
          "base_uri": "https://localhost:8080/"
        }
      },
      "outputs": [
        {
          "output_type": "stream",
          "name": "stdout",
          "text": [
            "Initial string:  Who ❤️ \"word embeddings\" in 2020. I do.\n",
            "After tokenization:  ['Who', '❤️', '``', 'word', 'embeddings', \"''\", 'in', '2020', '.', 'I', 'do', '.']\n"
          ]
        }
      ],
      "source": [
        "# Print cleaned corpus\n",
        "print(f'Initial string:  {data}')\n",
        "\n",
        "# Tokenize the cleaned corpus\n",
        "data = nltk.word_tokenize(data)\n",
        "\n",
        "# Print the tokenized version of the corpus\n",
        "print(f'After tokenization:  {data}')"
      ]
    },
    {
      "cell_type": "markdown",
      "metadata": {
        "id": "HCTmxCzJZfwX"
      },
      "source": [
        "Finally, as you saw in the lecture, get rid of numbers and punctuation other than periods, and convert all the remaining tokens to lowercase."
      ]
    },
    {
      "cell_type": "code",
      "execution_count": 8,
      "metadata": {
        "id": "lhRUccN5ZfwX",
        "outputId": "4bb06d47-e2cd-4366-e660-cf2ef10a03fe",
        "colab": {
          "base_uri": "https://localhost:8080/"
        }
      },
      "outputs": [
        {
          "output_type": "stream",
          "name": "stdout",
          "text": [
            "Initial list of tokens:  ['Who', '❤️', '``', 'word', 'embeddings', \"''\", 'in', '2020', '.', 'I', 'do', '.']\n",
            "After cleaning:  ['who', '❤️', 'word', 'embeddings', 'in', '.', 'i', 'do', '.']\n"
          ]
        },
        {
          "output_type": "stream",
          "name": "stderr",
          "text": [
            "/usr/local/lib/python3.7/dist-packages/ipykernel_launcher.py:8: DeprecationWarning: 'emoji.get_emoji_regexp()' is deprecated and will be removed in version 2.0.0. If you want to remove emoji from a string, consider the method emoji.replace_emoji(str, replace='').\n",
            "To hide this warning, pin/downgrade the package to 'emoji~=1.6.3'\n",
            "  \n"
          ]
        }
      ],
      "source": [
        "# Print the tokenized version of the corpus\n",
        "print(f'Initial list of tokens:  {data}')\n",
        "\n",
        "# Filter tokenized corpus using list comprehension\n",
        "data = [ ch.lower() for ch in data\n",
        "         if ch.isalpha()\n",
        "         or ch == '.'\n",
        "         or emoji.get_emoji_regexp().search(ch)\n",
        "       ]\n",
        "\n",
        "# Print the tokenized and filtered version of the corpus\n",
        "print(f'After cleaning:  {data}')"
      ]
    },
    {
      "cell_type": "markdown",
      "metadata": {
        "id": "_6UrylfpZfwY"
      },
      "source": [
        "Note that the heart emoji is considered as a token just like any normal word.\n",
        "\n",
        "Now let's streamline the cleaning and tokenization process by wrapping the previous steps in a function."
      ]
    },
    {
      "cell_type": "code",
      "execution_count": 9,
      "metadata": {
        "id": "ESjvpDPLZfwY"
      },
      "outputs": [],
      "source": [
        "# Define the 'tokenize' function that will include the steps previously seen\n",
        "def tokenize(corpus):\n",
        "    data = re.sub(r'[,!?;-]+', '.', corpus)\n",
        "    data = nltk.word_tokenize(data)  # tokenize string to words\n",
        "    data = [ ch.lower() for ch in data\n",
        "             if ch.isalpha()\n",
        "             or ch == '.'\n",
        "             or emoji.get_emoji_regexp().search(ch)\n",
        "           ]\n",
        "    return data"
      ]
    },
    {
      "cell_type": "markdown",
      "metadata": {
        "id": "nyKuvKfsZfwY"
      },
      "source": [
        "Apply this function to the corpus that you'll be working on in the rest of this notebook: \"I am happy because I am learning\""
      ]
    },
    {
      "cell_type": "code",
      "execution_count": 10,
      "metadata": {
        "id": "d5d807VoZfwY",
        "outputId": "98241ab2-3e11-43a2-de7e-5cf22b498f50",
        "colab": {
          "base_uri": "https://localhost:8080/"
        }
      },
      "outputs": [
        {
          "output_type": "stream",
          "name": "stdout",
          "text": [
            "Corpus:  I am happy because I am learning\n",
            "Words (tokens):  ['i', 'am', 'happy', 'because', 'i', 'am', 'learning']\n"
          ]
        }
      ],
      "source": [
        "# Define new corpus\n",
        "corpus = 'I am happy because I am learning'\n",
        "\n",
        "# Print new corpus\n",
        "print(f'Corpus:  {corpus}')\n",
        "\n",
        "# Save tokenized version of corpus into 'words' variable\n",
        "words = tokenize(corpus)\n",
        "\n",
        "# Print the tokenized version of the corpus\n",
        "print(f'Words (tokens):  {words}')"
      ]
    },
    {
      "cell_type": "markdown",
      "metadata": {
        "id": "CNintD7SZfwZ"
      },
      "source": [
        "**Now try it out yourself with your own sentence.**"
      ]
    },
    {
      "cell_type": "code",
      "execution_count": 11,
      "metadata": {
        "id": "bnqAVM6qZfwZ",
        "outputId": "eec08cd3-572e-47e0-99df-c4e73710ad99",
        "colab": {
          "base_uri": "https://localhost:8080/"
        }
      },
      "outputs": [
        {
          "output_type": "stream",
          "name": "stderr",
          "text": [
            "/usr/local/lib/python3.7/dist-packages/ipykernel_launcher.py:8: DeprecationWarning: 'emoji.get_emoji_regexp()' is deprecated and will be removed in version 2.0.0. If you want to remove emoji from a string, consider the method emoji.replace_emoji(str, replace='').\n",
            "To hide this warning, pin/downgrade the package to 'emoji~=1.6.3'\n",
            "  \n"
          ]
        },
        {
          "output_type": "execute_result",
          "data": {
            "text/plain": [
              "['now', 'it', 'your', 'turn', 'try', 'with', 'your', 'own', 'sentence', '.']"
            ]
          },
          "metadata": {},
          "execution_count": 11
        }
      ],
      "source": [
        "# Run this with any sentence\n",
        "tokenize(\"Now it's your turn: try with your own sentence!\")"
      ]
    },
    {
      "cell_type": "markdown",
      "metadata": {
        "id": "dl7HH-c5ZfwZ"
      },
      "source": [
        "## Sliding window of words"
      ]
    },
    {
      "cell_type": "markdown",
      "metadata": {
        "id": "zjJ8bf_LZfwZ"
      },
      "source": [
        "Now that you have transformed the corpus into a list of clean tokens, you can slide a window of words across this list. For each window you can extract a center word and the context words.\n",
        "\n",
        "The `get_windows` function in the next cell was introduced in the lecture."
      ]
    },
    {
      "cell_type": "code",
      "execution_count": 12,
      "metadata": {
        "id": "elO2UKVjZfwZ"
      },
      "outputs": [],
      "source": [
        "# Define the 'get_windows' function\n",
        "def get_windows(words, C):\n",
        "    i = C\n",
        "    while i < len(words) - C:\n",
        "        center_word = words[i]\n",
        "        context_words = words[(i - C):i] + words[(i+1):(i+C+1)]\n",
        "        yield context_words, center_word\n",
        "        i += 1"
      ]
    },
    {
      "cell_type": "markdown",
      "metadata": {
        "id": "5xq9yA2hZfwZ"
      },
      "source": [
        "The first argument of this function is a list of words (or tokens). The second argument, `C`, is the context half-size. Recall that for a given center word, the context words are made of `C` words to the left and `C` words to the right of the center word.\n",
        "\n",
        "Here is how you can use this function to extract context words and center words from a list of tokens. These context and center words will make up the training set that you will use to train the CBOW model."
      ]
    },
    {
      "cell_type": "code",
      "execution_count": 13,
      "metadata": {
        "id": "RaOmd2XuZfwa",
        "outputId": "1cd15fe8-9d65-46cf-c46b-5ada22b52e80",
        "colab": {
          "base_uri": "https://localhost:8080/"
        }
      },
      "outputs": [
        {
          "output_type": "stream",
          "name": "stdout",
          "text": [
            "['i', 'am', 'because', 'i']\thappy\n",
            "['am', 'happy', 'i', 'am']\tbecause\n",
            "['happy', 'because', 'am', 'learning']\ti\n"
          ]
        }
      ],
      "source": [
        "# Print 'context_words' and 'center_word' for the new corpus with a 'context half-size' of 2\n",
        "for x, y in get_windows(['i', 'am', 'happy', 'because', 'i', 'am', 'learning'], 2):\n",
        "    print(f'{x}\\t{y}')"
      ]
    },
    {
      "cell_type": "markdown",
      "metadata": {
        "id": "poE740IaZfwa"
      },
      "source": [
        "The first example of the training set is made of:\n",
        "\n",
        "- the context words \"i\", \"am\", \"because\", \"i\",\n",
        "\n",
        "- and the center word to be predicted: \"happy\".\n",
        "\n",
        "**Now try it out yourself. In the next cell, you can change both the sentence and the context half-size.**"
      ]
    },
    {
      "cell_type": "code",
      "execution_count": 14,
      "metadata": {
        "id": "I3N55HoiZfwa",
        "outputId": "9b9e863f-8465-43cd-83f1-304bc6ac6f37",
        "colab": {
          "base_uri": "https://localhost:8080/"
        }
      },
      "outputs": [
        {
          "output_type": "stream",
          "name": "stdout",
          "text": [
            "['now', 'your']\tit\n",
            "['it', 'turn']\tyour\n",
            "['your', 'try']\tturn\n",
            "['turn', 'with']\ttry\n",
            "['try', 'your']\twith\n",
            "['with', 'own']\tyour\n",
            "['your', 'sentence']\town\n",
            "['own', '.']\tsentence\n"
          ]
        },
        {
          "output_type": "stream",
          "name": "stderr",
          "text": [
            "/usr/local/lib/python3.7/dist-packages/ipykernel_launcher.py:8: DeprecationWarning: 'emoji.get_emoji_regexp()' is deprecated and will be removed in version 2.0.0. If you want to remove emoji from a string, consider the method emoji.replace_emoji(str, replace='').\n",
            "To hide this warning, pin/downgrade the package to 'emoji~=1.6.3'\n",
            "  \n"
          ]
        }
      ],
      "source": [
        "# Print 'context_words' and 'center_word' for any sentence with a 'context half-size' of 1\n",
        "for x, y in get_windows(tokenize(\"Now it's your turn: try with your own sentence!\"), 1):\n",
        "    print(f'{x}\\t{y}')"
      ]
    },
    {
      "cell_type": "markdown",
      "metadata": {
        "id": "AP-G3XpjZfwa"
      },
      "source": [
        "## Transforming words into vectors for the training set"
      ]
    },
    {
      "cell_type": "markdown",
      "metadata": {
        "id": "V9LzRaOyZfwa"
      },
      "source": [
        "To finish preparing the training set, you need to transform the context words and center words into vectors.\n",
        "\n",
        "### Mapping words to indices and indices to words\n",
        "\n",
        "The center words will be represented as one-hot vectors, and the vectors that represent context words are also based on one-hot vectors.\n",
        "\n",
        "To create one-hot word vectors, you can start by mapping each unique word to a unique integer (or index). We have provided a helper function, `get_dict`, that creates a Python dictionary that maps words to integers and back."
      ]
    },
    {
      "cell_type": "code",
      "execution_count": 15,
      "metadata": {
        "id": "eunEgBaAZfwa"
      },
      "outputs": [],
      "source": [
        "# Get 'word2Ind' and 'Ind2word' dictionaries for the tokenized corpus\n",
        "word2Ind, Ind2word = get_dict(words)"
      ]
    },
    {
      "cell_type": "markdown",
      "metadata": {
        "id": "GZygxdeKZfwa"
      },
      "source": [
        "Here's the dictionary that maps words to numeric indices."
      ]
    },
    {
      "cell_type": "code",
      "execution_count": 16,
      "metadata": {
        "scrolled": true,
        "id": "MHXeTfkPZfwb",
        "outputId": "fa016230-ff61-4e36-e14d-39060a7b0f08",
        "colab": {
          "base_uri": "https://localhost:8080/"
        }
      },
      "outputs": [
        {
          "output_type": "execute_result",
          "data": {
            "text/plain": [
              "{'am': 0, 'because': 1, 'happy': 2, 'i': 3, 'learning': 4}"
            ]
          },
          "metadata": {},
          "execution_count": 16
        }
      ],
      "source": [
        "# Print 'word2Ind' dictionary\n",
        "word2Ind"
      ]
    },
    {
      "cell_type": "markdown",
      "metadata": {
        "id": "cVw2u7IlZfwb"
      },
      "source": [
        "You can use this dictionary to get the index of a word."
      ]
    },
    {
      "cell_type": "code",
      "execution_count": 17,
      "metadata": {
        "id": "PNbw38cKZfwb",
        "outputId": "51220a5e-d624-4fc6-b4b9-0726d428fb4f",
        "colab": {
          "base_uri": "https://localhost:8080/"
        }
      },
      "outputs": [
        {
          "output_type": "stream",
          "name": "stdout",
          "text": [
            "Index of the word 'i':   3\n"
          ]
        }
      ],
      "source": [
        "# Print value for the key 'i' within word2Ind dictionary\n",
        "print(\"Index of the word 'i':  \",word2Ind['i'])"
      ]
    },
    {
      "cell_type": "markdown",
      "metadata": {
        "id": "__T8t7mXZfwb"
      },
      "source": [
        "And conversely, here's the dictionary that maps indices to words."
      ]
    },
    {
      "cell_type": "code",
      "execution_count": 18,
      "metadata": {
        "id": "QKYAeX6MZfwb",
        "outputId": "9476837b-b54c-4445-b426-91bc19ebb632",
        "colab": {
          "base_uri": "https://localhost:8080/"
        }
      },
      "outputs": [
        {
          "output_type": "execute_result",
          "data": {
            "text/plain": [
              "{0: 'am', 1: 'because', 2: 'happy', 3: 'i', 4: 'learning'}"
            ]
          },
          "metadata": {},
          "execution_count": 18
        }
      ],
      "source": [
        "# Print 'Ind2word' dictionary\n",
        "Ind2word"
      ]
    },
    {
      "cell_type": "code",
      "execution_count": 19,
      "metadata": {
        "scrolled": true,
        "id": "J9NMKcD7Zfwb",
        "outputId": "9ed27ee8-ee15-4194-ced4-4c66450657b3",
        "colab": {
          "base_uri": "https://localhost:8080/"
        }
      },
      "outputs": [
        {
          "output_type": "stream",
          "name": "stdout",
          "text": [
            "Word which has index 2:   happy\n"
          ]
        }
      ],
      "source": [
        "# Print value for the key '2' within Ind2word dictionary\n",
        "print(\"Word which has index 2:  \",Ind2word[2] )"
      ]
    },
    {
      "cell_type": "markdown",
      "metadata": {
        "id": "ARrdn8VVZfwb"
      },
      "source": [
        "Finally, get the length of either of these dictionaries to get the size of the vocabulary of your corpus, in other words the number of different words making up the corpus."
      ]
    },
    {
      "cell_type": "code",
      "execution_count": 20,
      "metadata": {
        "id": "5f3Q-OgjZfwb",
        "outputId": "005f753f-9f33-4a13-965e-e866875d5eb4",
        "colab": {
          "base_uri": "https://localhost:8080/"
        }
      },
      "outputs": [
        {
          "output_type": "stream",
          "name": "stdout",
          "text": [
            "Size of vocabulary:  5\n"
          ]
        }
      ],
      "source": [
        "# Save length of word2Ind dictionary into the 'V' variable\n",
        "V = len(word2Ind)\n",
        "\n",
        "# Print length of word2Ind dictionary\n",
        "print(\"Size of vocabulary: \", V)"
      ]
    },
    {
      "cell_type": "markdown",
      "metadata": {
        "id": "OoOpjElvZfwb"
      },
      "source": [
        "### Getting one-hot word vectors\n",
        "\n",
        "Recall from the lecture that you can easily convert an integer, $n$, into a one-hot vector.\n",
        "\n",
        "Consider the word \"happy\". First, retrieve its numeric index."
      ]
    },
    {
      "cell_type": "code",
      "execution_count": 21,
      "metadata": {
        "id": "tBoW9jm7Zfwc",
        "outputId": "0ded8f54-50a1-4b31-c1e5-8205589fb9a1",
        "colab": {
          "base_uri": "https://localhost:8080/"
        }
      },
      "outputs": [
        {
          "output_type": "execute_result",
          "data": {
            "text/plain": [
              "2"
            ]
          },
          "metadata": {},
          "execution_count": 21
        }
      ],
      "source": [
        "# Save index of word 'happy' into the 'n' variable\n",
        "n = word2Ind['happy']\n",
        "\n",
        "# Print index of word 'happy'\n",
        "n"
      ]
    },
    {
      "cell_type": "markdown",
      "metadata": {
        "id": "GWnIZN18Zfwc"
      },
      "source": [
        "Now create a vector with the size of the vocabulary, and fill it with zeros."
      ]
    },
    {
      "cell_type": "code",
      "execution_count": 22,
      "metadata": {
        "id": "Fr44O074Zfwc",
        "outputId": "10d03a7a-ba3f-49bc-f587-404bb8e8e501",
        "colab": {
          "base_uri": "https://localhost:8080/"
        }
      },
      "outputs": [
        {
          "output_type": "execute_result",
          "data": {
            "text/plain": [
              "array([0., 0., 0., 0., 0.])"
            ]
          },
          "metadata": {},
          "execution_count": 22
        }
      ],
      "source": [
        "# Create vector with the same length as the vocabulary, filled with zeros\n",
        "center_word_vector = np.zeros(V)\n",
        "\n",
        "# Print vector\n",
        "center_word_vector"
      ]
    },
    {
      "cell_type": "markdown",
      "metadata": {
        "id": "SFUczRkvZfwc"
      },
      "source": [
        "You can confirm that the vector has the right size."
      ]
    },
    {
      "cell_type": "code",
      "execution_count": 23,
      "metadata": {
        "id": "-DY-LdLJZfwc",
        "outputId": "5f859fae-2e62-44be-c235-5cafb369be84",
        "colab": {
          "base_uri": "https://localhost:8080/"
        }
      },
      "outputs": [
        {
          "output_type": "execute_result",
          "data": {
            "text/plain": [
              "True"
            ]
          },
          "metadata": {},
          "execution_count": 23
        }
      ],
      "source": [
        "# Assert that the length of the vector is the same as the size of the vocabulary\n",
        "len(center_word_vector) == V"
      ]
    },
    {
      "cell_type": "markdown",
      "metadata": {
        "id": "BriIsgKSZfwc"
      },
      "source": [
        "Next, replace the 0 of the $n$-th element with a 1."
      ]
    },
    {
      "cell_type": "code",
      "execution_count": 24,
      "metadata": {
        "id": "Wj9BP8HHZfwc"
      },
      "outputs": [],
      "source": [
        "# Replace element number 'n' with a 1\n",
        "center_word_vector[n] = 1"
      ]
    },
    {
      "cell_type": "markdown",
      "metadata": {
        "id": "SnjXW7jUZfwc"
      },
      "source": [
        "And you have your one-hot word vector."
      ]
    },
    {
      "cell_type": "code",
      "execution_count": 25,
      "metadata": {
        "id": "L03wwTNXZfwc",
        "outputId": "d4df0a60-eb34-467c-9bdc-199330cb5c21",
        "colab": {
          "base_uri": "https://localhost:8080/"
        }
      },
      "outputs": [
        {
          "output_type": "execute_result",
          "data": {
            "text/plain": [
              "array([0., 0., 1., 0., 0.])"
            ]
          },
          "metadata": {},
          "execution_count": 25
        }
      ],
      "source": [
        "# Print vector\n",
        "center_word_vector"
      ]
    },
    {
      "cell_type": "markdown",
      "metadata": {
        "id": "B4R7viq5Zfwc"
      },
      "source": [
        "**You can now group all of these steps in a convenient function, which takes as parameters: a word to be encoded, a dictionary that maps words to indices, and the size of the vocabulary.**"
      ]
    },
    {
      "cell_type": "code",
      "execution_count": 26,
      "metadata": {
        "id": "TL-eu6BbZfwc"
      },
      "outputs": [],
      "source": [
        "# Define the 'word_to_one_hot_vector' function that will include the steps previously seen\n",
        "def word_to_one_hot_vector(word, word2Ind, V):\n",
        "    one_hot_vector = np.zeros(V)\n",
        "    one_hot_vector[word2Ind[word]] = 1\n",
        "    return one_hot_vector"
      ]
    },
    {
      "cell_type": "markdown",
      "metadata": {
        "id": "krBLsybXZfwd"
      },
      "source": [
        "Check that it works as intended."
      ]
    },
    {
      "cell_type": "code",
      "execution_count": 27,
      "metadata": {
        "id": "OkyVAbjKZfwd",
        "outputId": "8e02196e-a15f-4799-e578-6f1e25bb5647",
        "colab": {
          "base_uri": "https://localhost:8080/"
        }
      },
      "outputs": [
        {
          "output_type": "execute_result",
          "data": {
            "text/plain": [
              "array([0., 0., 1., 0., 0.])"
            ]
          },
          "metadata": {},
          "execution_count": 27
        }
      ],
      "source": [
        "# Print output of 'word_to_one_hot_vector' function for word 'happy'\n",
        "word_to_one_hot_vector('happy', word2Ind, V)"
      ]
    },
    {
      "cell_type": "markdown",
      "metadata": {
        "id": "1f5wA_JzZfwd"
      },
      "source": [
        "**What is the word vector for \"learning\"?**"
      ]
    },
    {
      "cell_type": "code",
      "execution_count": 28,
      "metadata": {
        "id": "ac3IcgVQZfwd",
        "outputId": "fc93701d-8ab4-4ec7-d5f6-9243b511301b",
        "colab": {
          "base_uri": "https://localhost:8080/"
        }
      },
      "outputs": [
        {
          "output_type": "execute_result",
          "data": {
            "text/plain": [
              "array([0., 0., 0., 0., 1.])"
            ]
          },
          "metadata": {},
          "execution_count": 28
        }
      ],
      "source": [
        "# Print output of 'word_to_one_hot_vector' function for word 'learning'\n",
        "word_to_one_hot_vector('learning', word2Ind, V)"
      ]
    },
    {
      "cell_type": "markdown",
      "metadata": {
        "id": "BVGZniKzZfwd"
      },
      "source": [
        "Expected output:\n",
        "\n",
        "    array([0., 0., 0., 0., 1.])"
      ]
    },
    {
      "cell_type": "markdown",
      "metadata": {
        "id": "vaw8n5eBZfwd"
      },
      "source": [
        "### Getting context word vectors"
      ]
    },
    {
      "cell_type": "markdown",
      "metadata": {
        "id": "ScP0p-HaZfwd"
      },
      "source": [
        "To create the vectors that represent context words, you will calculate the average of the one-hot vectors representing the individual words.\n",
        "\n",
        "Let's start with a list of context words."
      ]
    },
    {
      "cell_type": "code",
      "execution_count": 29,
      "metadata": {
        "id": "buRfmWTmZfwd"
      },
      "outputs": [],
      "source": [
        "# Define list containing context words\n",
        "context_words = ['i', 'am', 'because', 'i']"
      ]
    },
    {
      "cell_type": "markdown",
      "metadata": {
        "id": "Gj2nduqzZfwd"
      },
      "source": [
        "Using Python's list comprehension construct and the `word_to_one_hot_vector` function that you created in the previous section, you can create a list of one-hot vectors representing each of the context words."
      ]
    },
    {
      "cell_type": "code",
      "execution_count": 30,
      "metadata": {
        "id": "vb-iZEZYZfwe",
        "outputId": "9996c575-1b2a-44c4-c547-0589380dbe83",
        "colab": {
          "base_uri": "https://localhost:8080/"
        }
      },
      "outputs": [
        {
          "output_type": "execute_result",
          "data": {
            "text/plain": [
              "[array([0., 0., 0., 1., 0.]),\n",
              " array([1., 0., 0., 0., 0.]),\n",
              " array([0., 1., 0., 0., 0.]),\n",
              " array([0., 0., 0., 1., 0.])]"
            ]
          },
          "metadata": {},
          "execution_count": 30
        }
      ],
      "source": [
        "# Create one-hot vectors for each context word using list comprehension\n",
        "context_words_vectors = [word_to_one_hot_vector(w, word2Ind, V) for w in context_words]\n",
        "\n",
        "# Print one-hot vectors for each context word\n",
        "context_words_vectors"
      ]
    },
    {
      "cell_type": "markdown",
      "metadata": {
        "id": "k0mEQ0qBZfwe"
      },
      "source": [
        "And you can now simply get the average of these vectors using numpy's `mean` function, to get the vector representation of the context words."
      ]
    },
    {
      "cell_type": "code",
      "execution_count": 31,
      "metadata": {
        "id": "obd1l-BcZfwe",
        "outputId": "6e3aeb4a-c4ae-492f-e0cf-6bfd0d0fbef3",
        "colab": {
          "base_uri": "https://localhost:8080/"
        }
      },
      "outputs": [
        {
          "output_type": "execute_result",
          "data": {
            "text/plain": [
              "array([0.25, 0.25, 0.  , 0.5 , 0.  ])"
            ]
          },
          "metadata": {},
          "execution_count": 31
        }
      ],
      "source": [
        "# Compute mean of the vectors using numpy\n",
        "np.mean(context_words_vectors, axis=0)"
      ]
    },
    {
      "cell_type": "markdown",
      "metadata": {
        "id": "Moxo7uPWZfwe"
      },
      "source": [
        "Note the `axis=0` parameter that tells `mean` to calculate the average of the rows (if you had wanted the average of the columns, you would have used `axis=1`).\n",
        "\n",
        "**Now create the `context_words_to_vector` function that takes in a list of context words, a word-to-index dictionary, and a vocabulary size, and outputs the vector representation of the context words.**"
      ]
    },
    {
      "cell_type": "code",
      "execution_count": 32,
      "metadata": {
        "id": "agE0O4QHZfwe"
      },
      "outputs": [],
      "source": [
        "# Define the 'context_words_to_vector' function that will include the steps previously seen\n",
        "def context_words_to_vector(context_words, word2Ind, V):\n",
        "    context_words_vectors = [word_to_one_hot_vector(w, word2Ind, V) for w in context_words]\n",
        "    context_words_vectors = np.mean(context_words_vectors, axis=0)\n",
        "    return context_words_vectors"
      ]
    },
    {
      "cell_type": "markdown",
      "metadata": {
        "id": "pNEsfE8yZfwe"
      },
      "source": [
        "And check that you obtain the same output as the manual approach above."
      ]
    },
    {
      "cell_type": "code",
      "execution_count": 33,
      "metadata": {
        "id": "MDAmaUGXZfwe",
        "outputId": "a979f395-4b44-428b-ef7d-946224190c65",
        "colab": {
          "base_uri": "https://localhost:8080/"
        }
      },
      "outputs": [
        {
          "output_type": "execute_result",
          "data": {
            "text/plain": [
              "array([0.25, 0.25, 0.  , 0.5 , 0.  ])"
            ]
          },
          "metadata": {},
          "execution_count": 33
        }
      ],
      "source": [
        "# Print output of 'context_words_to_vector' function for context words: 'i', 'am', 'because', 'i'\n",
        "context_words_to_vector(['i', 'am', 'because', 'i'], word2Ind, V)"
      ]
    },
    {
      "cell_type": "markdown",
      "metadata": {
        "id": "hcMe8eEEZfwe"
      },
      "source": [
        "**What is the vector representation of the context words \"am happy i am\"?**"
      ]
    },
    {
      "cell_type": "code",
      "execution_count": 34,
      "metadata": {
        "id": "CPcxQVTNZfwe",
        "outputId": "9f3d012f-db18-40c0-802d-b74f2e09130d",
        "colab": {
          "base_uri": "https://localhost:8080/"
        }
      },
      "outputs": [
        {
          "output_type": "execute_result",
          "data": {
            "text/plain": [
              "array([0.5 , 0.  , 0.25, 0.25, 0.  ])"
            ]
          },
          "metadata": {},
          "execution_count": 34
        }
      ],
      "source": [
        "# Print output of 'context_words_to_vector' function for context words: 'am', 'happy', 'i', 'am'\n",
        "context_words_to_vector(['am', 'happy', 'i', 'am'], word2Ind, V)"
      ]
    },
    {
      "cell_type": "markdown",
      "metadata": {
        "id": "tfj7hayMZfwe"
      },
      "source": [
        "Expected output:\n",
        "\n",
        "    array([0.5 , 0.  , 0.25, 0.25, 0.  ])"
      ]
    },
    {
      "cell_type": "markdown",
      "metadata": {
        "id": "fAC5Y7eyZfwf"
      },
      "source": [
        "\n",
        "## Building the training set"
      ]
    },
    {
      "cell_type": "markdown",
      "metadata": {
        "id": "Vj0DeqUeZfwf"
      },
      "source": [
        "You can now combine the functions that you created in the previous sections, to build a training set for the CBOW model, starting from the following tokenized corpus."
      ]
    },
    {
      "cell_type": "code",
      "execution_count": 35,
      "metadata": {
        "id": "z-hzjBhzZfwf",
        "outputId": "19ef77c1-66cb-403f-e4e7-69a05812187d",
        "colab": {
          "base_uri": "https://localhost:8080/"
        }
      },
      "outputs": [
        {
          "output_type": "execute_result",
          "data": {
            "text/plain": [
              "['i', 'am', 'happy', 'because', 'i', 'am', 'learning']"
            ]
          },
          "metadata": {},
          "execution_count": 35
        }
      ],
      "source": [
        "# Print corpus\n",
        "words"
      ]
    },
    {
      "cell_type": "markdown",
      "metadata": {
        "id": "jN8KdXfBZfwf"
      },
      "source": [
        "To do this you need to use the sliding window function (`get_windows`) to extract the context words and center words, and you then convert these sets of words into a basic vector representation using `word_to_one_hot_vector` and `context_words_to_vector`."
      ]
    },
    {
      "cell_type": "code",
      "execution_count": 36,
      "metadata": {
        "id": "MLuxw6PBZfwf",
        "outputId": "9183282a-0346-4c9a-a13e-a1924a9808f0",
        "colab": {
          "base_uri": "https://localhost:8080/"
        }
      },
      "outputs": [
        {
          "output_type": "stream",
          "name": "stdout",
          "text": [
            "Context words:  ['i', 'am', 'because', 'i'] -> [0.25 0.25 0.   0.5  0.  ]\n",
            "Center word:  happy -> [0. 0. 1. 0. 0.]\n",
            "\n",
            "Context words:  ['am', 'happy', 'i', 'am'] -> [0.5  0.   0.25 0.25 0.  ]\n",
            "Center word:  because -> [0. 1. 0. 0. 0.]\n",
            "\n",
            "Context words:  ['happy', 'because', 'am', 'learning'] -> [0.25 0.25 0.25 0.   0.25]\n",
            "Center word:  i -> [0. 0. 0. 1. 0.]\n",
            "\n"
          ]
        }
      ],
      "source": [
        "# Print vectors associated to center and context words for corpus\n",
        "for context_words, center_word in get_windows(words, 2):  # reminder: 2 is the context half-size\n",
        "    print(f'Context words:  {context_words} -> {context_words_to_vector(context_words, word2Ind, V)}')\n",
        "    print(f'Center word:  {center_word} -> {word_to_one_hot_vector(center_word, word2Ind, V)}')\n",
        "    print()"
      ]
    },
    {
      "cell_type": "markdown",
      "metadata": {
        "id": "6vzeU46UZfwf"
      },
      "source": [
        "In this practice notebook you'll be performing a single iteration of training using a single example, but in this week's assignment you'll train the CBOW model using several iterations and batches of example.\n",
        "Here is how you would use a Python generator function (remember the `yield` keyword from the lecture?) to make it easier to iterate over a set of examples."
      ]
    },
    {
      "cell_type": "code",
      "execution_count": 37,
      "metadata": {
        "id": "dR0yxmh9Zfwf"
      },
      "outputs": [],
      "source": [
        "# Define the generator function 'get_training_example'\n",
        "def get_training_example(words, C, word2Ind, V):\n",
        "    for context_words, center_word in get_windows(words, C):\n",
        "        yield context_words_to_vector(context_words, word2Ind, V), word_to_one_hot_vector(center_word, word2Ind, V)"
      ]
    },
    {
      "cell_type": "markdown",
      "metadata": {
        "id": "jxpk6BlvZfwf"
      },
      "source": [
        "The output of this function can be iterated on to get successive context word vectors and center word vectors, as demonstrated in the next cell."
      ]
    },
    {
      "cell_type": "code",
      "execution_count": 38,
      "metadata": {
        "id": "zo6mIl4DZfwf",
        "outputId": "dfff5478-5003-4edf-fb60-1b6e01a23d6f",
        "colab": {
          "base_uri": "https://localhost:8080/"
        }
      },
      "outputs": [
        {
          "output_type": "stream",
          "name": "stdout",
          "text": [
            "Context words vector:  [0.25 0.25 0.   0.5  0.  ]\n",
            "Center word vector:  [0. 0. 1. 0. 0.]\n",
            "\n",
            "Context words vector:  [0.5  0.   0.25 0.25 0.  ]\n",
            "Center word vector:  [0. 1. 0. 0. 0.]\n",
            "\n",
            "Context words vector:  [0.25 0.25 0.25 0.   0.25]\n",
            "Center word vector:  [0. 0. 0. 1. 0.]\n",
            "\n"
          ]
        }
      ],
      "source": [
        "# Print vectors associated to center and context words for corpus using the generator function\n",
        "for context_words_vector, center_word_vector in get_training_example(words, 2, word2Ind, V):\n",
        "    print(f'Context words vector:  {context_words_vector}')\n",
        "    print(f'Center word vector:  {center_word_vector}')\n",
        "    print()"
      ]
    },
    {
      "cell_type": "markdown",
      "metadata": {
        "id": "blTJ9NNUZfwf"
      },
      "source": [
        "Your training set is ready, you can now move on to the CBOW model itself which will be covered in the next lecture notebook.\n",
        "\n",
        "**Congratulations on finishing this lecture notebook!** Hopefully you now have a better understanding of how to prepare your data before feeding it to a continuous bag-of-words model. \n",
        "\n",
        "**Keep it up!**"
      ]
    }
  ],
  "metadata": {
    "kernelspec": {
      "display_name": "Python 3",
      "language": "python",
      "name": "python3"
    },
    "language_info": {
      "codemirror_mode": {
        "name": "ipython",
        "version": 3
      },
      "file_extension": ".py",
      "mimetype": "text/x-python",
      "name": "python",
      "nbconvert_exporter": "python",
      "pygments_lexer": "ipython3",
      "version": "3.7.1"
    },
    "colab": {
      "name": "NLP_C2_W4_lecture_notebook_data_prep.ipynb",
      "provenance": []
    }
  },
  "nbformat": 4,
  "nbformat_minor": 0
}